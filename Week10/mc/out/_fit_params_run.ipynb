{
 "cells": [
  {
   "cell_type": "code",
   "execution_count": 1,
   "id": "f50da1c2",
   "metadata": {
    "execution": {
     "iopub.execute_input": "2025-09-01T04:13:35.393672Z",
     "iopub.status.busy": "2025-09-01T04:13:35.393247Z",
     "iopub.status.idle": "2025-09-01T04:13:35.398979Z",
     "shell.execute_reply": "2025-09-01T04:13:35.398153Z"
    },
    "papermill": {
     "duration": 0.016863,
     "end_time": "2025-09-01T04:13:35.401964",
     "exception": false,
     "start_time": "2025-09-01T04:13:35.385101",
     "status": "completed"
    },
    "tags": [
     "injected-parameters"
    ]
   },
   "outputs": [],
   "source": [
    "# Parameters\n",
    "TICKERS = [\"SPY\", \"QQQ\", \"GLD\"]\n",
    "START = \"1999-01-01\"\n",
    "END = \"2024-12-31\"\n",
    "CSV = \"data/price_data.csv\"\n",
    "OUT_DIR = \"mc\"\n"
   ]
  },
  {
   "cell_type": "code",
   "execution_count": 2,
   "id": "1155917d-9a77-48b6-bba2-8ea1930adfa4",
   "metadata": {
    "execution": {
     "iopub.execute_input": "2025-09-01T04:13:35.412229Z",
     "iopub.status.busy": "2025-09-01T04:13:35.411883Z",
     "iopub.status.idle": "2025-09-01T04:13:35.416400Z",
     "shell.execute_reply": "2025-09-01T04:13:35.415764Z"
    },
    "papermill": {
     "duration": 0.010711,
     "end_time": "2025-09-01T04:13:35.418558",
     "exception": false,
     "start_time": "2025-09-01T04:13:35.407847",
     "status": "completed"
    },
    "tags": []
   },
   "outputs": [],
   "source": [
    "# Parameters (papermill will override these)\n",
    "TICKERS = [\"SPY\", \"QQQ\", \"GLD\"]          # keep SPY (benchmark), QQQ (tech proxy), GLD (gold)\n",
    "START   = \"1999-01-01\"\n",
    "END     = \"2024-12-31\"\n",
    "CSV     = \"data/price_data.csv\"          # set \"\" to force Yahoo Finance\n",
    "OUT_DIR = \"mc\"                            # where params.json and hist_returns.csv will be written"
   ]
  },
  {
   "cell_type": "code",
   "execution_count": 3,
   "id": "4fa88801-6d0a-4b55-8c64-37511c82844a",
   "metadata": {
    "execution": {
     "iopub.execute_input": "2025-09-01T04:13:35.423845Z",
     "iopub.status.busy": "2025-09-01T04:13:35.423537Z",
     "iopub.status.idle": "2025-09-01T04:13:36.866143Z",
     "shell.execute_reply": "2025-09-01T04:13:36.865897Z"
    },
    "papermill": {
     "duration": 1.446312,
     "end_time": "2025-09-01T04:13:36.867044",
     "exception": false,
     "start_time": "2025-09-01T04:13:35.420732",
     "status": "completed"
    },
    "tags": []
   },
   "outputs": [
    {
     "name": "stdout",
     "output_type": "stream",
     "text": [
      "[fit_params] Wrote mc/params.json and mc/hist_returns.csv\n"
     ]
    }
   ],
   "source": [
    "from pathlib import Path\n",
    "import json, sys\n",
    "import numpy as np\n",
    "import pandas as pd\n",
    "\n",
    "Path(OUT_DIR).mkdir(parents=True, exist_ok=True)\n",
    "\n",
    "def load_prices_from_csv(csv_path: Path) -> pd.DataFrame:\n",
    "    df = pd.read_csv(csv_path, parse_dates=[\"Date\"])\n",
    "    if \"Ticker\" in df.columns:  # long format\n",
    "        piv = df.pivot(index=\"Date\", columns=\"Ticker\", values=\"Adj Close\").sort_index()\n",
    "    else:                       # wide format\n",
    "        piv = df.set_index(\"Date\").sort_index()\n",
    "    return piv\n",
    "\n",
    "def load_prices_from_yf(tickers, start, end):\n",
    "    import yfinance as yf\n",
    "    data = yf.download(tickers, start=start, end=end, auto_adjust=True, progress=False)\n",
    "    if isinstance(data.columns, pd.MultiIndex):\n",
    "        data = data[\"Close\"]\n",
    "    return data.dropna().sort_index()\n",
    "\n",
    "# --- load prices ---\n",
    "if CSV and Path(CSV).exists():\n",
    "    prices = load_prices_from_csv(Path(CSV))\n",
    "    # keep only requested tickers present in CSV\n",
    "    tickers = [t for t in TICKERS if t in prices.columns]\n",
    "    missing = [t for t in TICKERS if t not in prices.columns]\n",
    "    if missing:\n",
    "        print(f\"[fit_params] WARNING: Missing in CSV: {missing}; using {tickers} only.\", file=sys.stderr)\n",
    "    prices = prices[tickers].dropna(how=\"any\")\n",
    "else:\n",
    "    tickers = TICKERS[:]  # use requested list\n",
    "    prices = load_prices_from_yf(tickers, START, END)\n",
    "\n",
    "assert len(tickers) >= 3 and {\"SPY\",\"QQQ\",\"GLD\"}.issubset(set(tickers)), \\\n",
    "    \"SPY/QQQ/GLD must be included.\"\n",
    "\n",
    "# --- daily log returns in percentage points (×100) ---\n",
    "lrets_pct = np.log(prices).diff().dropna() * 100.0\n",
    "lrets_pct.to_csv(Path(OUT_DIR) / \"hist_returns.csv\", index=True)\n",
    "\n",
    "mu = lrets_pct.mean().to_dict()               # daily mean (%)\n",
    "cov = lrets_pct.cov().values.tolist()         # daily covariance (%^2), order = tickers\n",
    "start_prices = prices.iloc[0].to_dict()\n",
    "\n",
    "params = {\n",
    "    \"tickers\": tickers,\n",
    "    \"start\": str(prices.index.min().date()),\n",
    "    \"end\":   str(prices.index.max().date()),\n",
    "    \"mu_daily_pct\": mu,\n",
    "    \"cov_daily_pct2\": cov,\n",
    "    \"start_prices\": start_prices,\n",
    "    \"horizon_days_default\": 252*5\n",
    "}\n",
    "\n",
    "with open(Path(OUT_DIR) / \"params.json\", \"w\") as f:\n",
    "    json.dump(params, f, indent=2)\n",
    "\n",
    "print(f\"[fit_params] Wrote {Path(OUT_DIR)/'params.json'} and {Path(OUT_DIR)/'hist_returns.csv'}\")\n"
   ]
  }
 ],
 "metadata": {
  "kernelspec": {
   "display_name": "Python 3 (ipykernel)",
   "language": "python",
   "name": "python3"
  },
  "language_info": {
   "codemirror_mode": {
    "name": "ipython",
    "version": 3
   },
   "file_extension": ".py",
   "mimetype": "text/x-python",
   "name": "python",
   "nbconvert_exporter": "python",
   "pygments_lexer": "ipython3",
   "version": "3.12.2"
  },
  "papermill": {
   "default_parameters": {},
   "duration": 2.716845,
   "end_time": "2025-09-01T04:13:37.085019",
   "environment_variables": {},
   "exception": null,
   "input_path": "fit_params.ipynb",
   "output_path": "mc/out/_fit_params_run.ipynb",
   "parameters": {
    "CSV": "data/price_data.csv",
    "END": "2024-12-31",
    "OUT_DIR": "mc",
    "START": "1999-01-01",
    "TICKERS": [
     "SPY",
     "QQQ",
     "GLD"
    ]
   },
   "start_time": "2025-09-01T04:13:34.368174",
   "version": "2.6.0"
  }
 },
 "nbformat": 4,
 "nbformat_minor": 5
}